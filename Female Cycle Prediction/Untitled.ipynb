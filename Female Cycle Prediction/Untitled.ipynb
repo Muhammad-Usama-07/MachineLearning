{
 "cells": [
  {
   "cell_type": "code",
   "execution_count": 1,
   "id": "5b4085fb-1df1-4322-82e5-a4d60df76d96",
   "metadata": {},
   "outputs": [
    {
     "data": {
      "text/plain": [
       "-1"
      ]
     },
     "execution_count": 1,
     "metadata": {},
     "output_type": "execute_result"
    }
   ],
   "source": [
    "import cv2\n",
    " \n",
    "# path\n",
    "path = r'animal_img.jpg'\n",
    " \n",
    "# Reading an image in default mode\n",
    "src = cv2.imread(path)\n",
    " \n",
    "# Window name in which image is displayed\n",
    "window_name = 'Image'\n",
    " \n",
    "# Using cv2.rotate() method\n",
    "# Using cv2.ROTATE_90_CLOCKWISE rotate\n",
    "# by 90 degrees clockwise\n",
    "image = cv2.rotate(src, cv2.ROTATE_90_CLOCKWISE)\n",
    " \n",
    "# Displaying the image\n",
    "cv2.imshow(window_name, image)\n",
    "cv2.waitKey(0)"
   ]
  },
  {
   "cell_type": "code",
   "execution_count": 14,
   "id": "6f466881-bdf7-4d46-93ad-53e9968d4513",
   "metadata": {},
   "outputs": [
    {
     "name": "stdout",
     "output_type": "stream",
     "text": [
      "{'follicular': [7, 8, 9, 10, 11], 'fertility': [12, 13, 14, 15, 16, 17], 'ovulation': 15, 'luteal': [18, 19, 20, 21, 22, 23, 24, 25, 26, 27, 28, 29]}\n"
     ]
    }
   ],
   "source": [
    "def calculate_phases_dynamic(average_cycle, menstruation):\n",
    "    if average_cycle < 22 or menstruation < 2 or menstruation >= average_cycle:\n",
    "        return \"Invalid input. Please enter valid average cycle and menstruation duration.\"\n",
    "    \n",
    "    # Ovulation day is typically 14 days before the end of the cycle\n",
    "    ovulation = average_cycle - 14\n",
    "\n",
    "    # Follicular phase starts the day after menstruation ends\n",
    "    follicular_start = menstruation + 1\n",
    "    follicular_end = ovulation - 4  # assuming follicular phase ends 4 days before ovulation\n",
    "    \n",
    "    if follicular_end < follicular_start:\n",
    "        return \"Invalid calculation based on provided inputs. Please adjust the input values.\"\n",
    "\n",
    "    follicular = list(range(follicular_start, follicular_end + 1))\n",
    "\n",
    "    # Fertility window is typically 5 days, ending on the ovulation day\n",
    "    fertility_start = ovulation - 3\n",
    "    fertility_end = ovulation + 2\n",
    "    fertility = list(range(fertility_start, fertility_end + 1))\n",
    "\n",
    "    # Luteal phase starts the day after ovulation and lasts until the end of the cycle\n",
    "    luteal_start = ovulation + 3\n",
    "    luteal_end = average_cycle\n",
    "    luteal = list(range(luteal_start, luteal_end + 1))\n",
    "\n",
    "    return {\n",
    "        \"follicular\": follicular,\n",
    "        \"fertility\": fertility,\n",
    "        \"ovulation\": ovulation,\n",
    "        \"luteal\": luteal\n",
    "    }\n",
    "\n",
    "# Example usage:\n",
    "average_cycle = 29\n",
    "menstruation = 6\n",
    "phases = calculate_phases_dynamic(average_cycle, menstruation)\n",
    "print(phases)\n"
   ]
  },
  {
   "cell_type": "code",
   "execution_count": null,
   "id": "7cac5508-c628-4f09-a0b4-5dee7b398e0a",
   "metadata": {},
   "outputs": [],
   "source": []
  },
  {
   "cell_type": "code",
   "execution_count": null,
   "id": "391ce217-5d9e-4f1b-9bf4-4f3517052c92",
   "metadata": {},
   "outputs": [],
   "source": []
  },
  {
   "cell_type": "code",
   "execution_count": null,
   "id": "f8eb2cb4-87bc-477e-b181-3fd392028d88",
   "metadata": {},
   "outputs": [],
   "source": []
  },
  {
   "cell_type": "code",
   "execution_count": null,
   "id": "14415063-ad49-47ec-a86f-7a463636814a",
   "metadata": {},
   "outputs": [],
   "source": []
  },
  {
   "cell_type": "code",
   "execution_count": null,
   "id": "96f3deb0-fd28-47aa-92ff-c983619b9708",
   "metadata": {},
   "outputs": [],
   "source": []
  }
 ],
 "metadata": {
  "kernelspec": {
   "display_name": "Python 3 (ipykernel)",
   "language": "python",
   "name": "python3"
  },
  "language_info": {
   "codemirror_mode": {
    "name": "ipython",
    "version": 3
   },
   "file_extension": ".py",
   "mimetype": "text/x-python",
   "name": "python",
   "nbconvert_exporter": "python",
   "pygments_lexer": "ipython3",
   "version": "3.10.0"
  }
 },
 "nbformat": 4,
 "nbformat_minor": 5
}
