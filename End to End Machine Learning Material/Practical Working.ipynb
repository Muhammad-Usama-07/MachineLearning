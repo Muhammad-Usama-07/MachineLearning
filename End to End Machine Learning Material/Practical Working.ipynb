{
 "cells": [
  {
   "cell_type": "code",
   "execution_count": null,
   "id": "9c31b45c-2829-4e07-961a-430158e10b11",
   "metadata": {},
   "outputs": [],
   "source": []
  },
  {
   "cell_type": "markdown",
   "id": "4bd645a9-caf6-4725-a02f-28744d12abeb",
   "metadata": {},
   "source": [
    "# Feature store using Feast"
   ]
  },
  {
   "cell_type": "markdown",
   "id": "4627be5b-f5b1-4d97-a3df-e112c5f49fc6",
   "metadata": {},
   "source": [
    "### add source file "
   ]
  },
  {
   "cell_type": "code",
   "execution_count": null,
   "id": "c8ab61a8-378b-4368-b387-ff9244ee5b12",
   "metadata": {},
   "outputs": [],
   "source": [
    "data_source = FileSource(\n",
    "    path=\"filename.parquet\",\n",
    "    event_timestamp_column=\"timestamp\",\n",
    "    created_timestamp_column=\"created\",\n",
    ")"
   ]
  },
  {
   "cell_type": "markdown",
   "id": "ecb2b79e-ba49-4087-b90d-ee8213a6e4ac",
   "metadata": {},
   "source": [
    "### Create a Feature View of the features"
   ]
  },
  {
   "cell_type": "code",
   "execution_count": null,
   "id": "3cca526f-59c0-4cf5-9f46-cec2acbfa5d4",
   "metadata": {},
   "outputs": [],
   "source": [
    "filename_fv = FeatureView(\n",
    "    name=\"filename\",\n",
    "    entities=[patient],\n",
    "    schema=[cp, thalach, ca, thal],\n",
    "    source=data_source,\n",
    ")"
   ]
  },
  {
   "cell_type": "markdown",
   "id": "9f10dc65-14e0-4b73-9e76-5f161d9d2d24",
   "metadata": {},
   "source": []
  },
  {
   "cell_type": "code",
   "execution_count": null,
   "id": "e70419fe-627f-4b39-a8d9-4580af6066f8",
   "metadata": {},
   "outputs": [],
   "source": []
  }
 ],
 "metadata": {
  "kernelspec": {
   "display_name": "Python 3 (ipykernel)",
   "language": "python",
   "name": "python3"
  },
  "language_info": {
   "codemirror_mode": {
    "name": "ipython",
    "version": 3
   },
   "file_extension": ".py",
   "mimetype": "text/x-python",
   "name": "python",
   "nbconvert_exporter": "python",
   "pygments_lexer": "ipython3",
   "version": "3.11.5"
  }
 },
 "nbformat": 4,
 "nbformat_minor": 5
}
